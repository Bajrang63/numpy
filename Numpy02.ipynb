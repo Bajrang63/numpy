{
 "cells": [
  {
   "cell_type": "code",
   "execution_count": 1,
   "id": "41ef2ac7-07d2-4824-ba6b-c4a40357baa1",
   "metadata": {},
   "outputs": [],
   "source": [
    "import numpy as np\n",
    "data=np.array([[1],[2],[3]])"
   ]
  },
  {
   "cell_type": "code",
   "execution_count": 2,
   "id": "c02412f7-2a57-4436-9ae5-77ce1da43a52",
   "metadata": {},
   "outputs": [
    {
     "data": {
      "text/plain": [
       "array([[1],\n",
       "       [2],\n",
       "       [3]])"
      ]
     },
     "execution_count": 2,
     "metadata": {},
     "output_type": "execute_result"
    }
   ],
   "source": [
    "data"
   ]
  },
  {
   "cell_type": "code",
   "execution_count": 5,
   "id": "86ad3e92-bd2c-432d-8656-b9246618e2ab",
   "metadata": {},
   "outputs": [],
   "source": [
    "a=np.squeeze(data)"
   ]
  },
  {
   "cell_type": "code",
   "execution_count": 6,
   "id": "4edc94b9-9dbd-4489-8d7c-d5ff64815b84",
   "metadata": {},
   "outputs": [
    {
     "data": {
      "text/plain": [
       "2"
      ]
     },
     "execution_count": 6,
     "metadata": {},
     "output_type": "execute_result"
    }
   ],
   "source": [
    "data.ndim"
   ]
  },
  {
   "cell_type": "code",
   "execution_count": 7,
   "id": "09c67526-8723-4f38-9afb-7a6f01694580",
   "metadata": {},
   "outputs": [
    {
     "data": {
      "text/plain": [
       "array([1, 2, 3])"
      ]
     },
     "execution_count": 7,
     "metadata": {},
     "output_type": "execute_result"
    }
   ],
   "source": [
    "a"
   ]
  },
  {
   "cell_type": "code",
   "execution_count": 8,
   "id": "f70d40bc-ed40-43d5-85a5-ea334966d4ba",
   "metadata": {},
   "outputs": [
    {
     "data": {
      "text/plain": [
       "1"
      ]
     },
     "execution_count": 8,
     "metadata": {},
     "output_type": "execute_result"
    }
   ],
   "source": [
    "a.ndim"
   ]
  },
  {
   "cell_type": "code",
   "execution_count": 9,
   "id": "93fe42bc-e88c-4338-ba40-1dde45d3bb76",
   "metadata": {},
   "outputs": [],
   "source": [
    "#repeat"
   ]
  },
  {
   "cell_type": "code",
   "execution_count": 10,
   "id": "f1179555-aea4-456a-a95d-792daadb822b",
   "metadata": {},
   "outputs": [
    {
     "data": {
      "text/plain": [
       "array([[1],\n",
       "       [2],\n",
       "       [3]])"
      ]
     },
     "execution_count": 10,
     "metadata": {},
     "output_type": "execute_result"
    }
   ],
   "source": [
    "data"
   ]
  },
  {
   "cell_type": "code",
   "execution_count": 13,
   "id": "6c06852b-1da0-4f27-807a-a102e8522b22",
   "metadata": {},
   "outputs": [
    {
     "data": {
      "text/plain": [
       "array([1, 1, 1, 1, 2, 2, 2, 2, 3, 3, 3, 3])"
      ]
     },
     "execution_count": 13,
     "metadata": {},
     "output_type": "execute_result"
    }
   ],
   "source": [
    "np.repeat(data ,4)"
   ]
  },
  {
   "cell_type": "code",
   "execution_count": 16,
   "id": "becc018e-286a-4603-91ab-443446d5e5a4",
   "metadata": {},
   "outputs": [],
   "source": [
    "a=np.array([[1,2],[3,4]])"
   ]
  },
  {
   "cell_type": "code",
   "execution_count": 17,
   "id": "de19b112-9e25-4bb8-89c3-104b6c45f7f9",
   "metadata": {},
   "outputs": [
    {
     "data": {
      "text/plain": [
       "array([1, 1, 2, 2, 3, 3, 4, 4])"
      ]
     },
     "execution_count": 17,
     "metadata": {},
     "output_type": "execute_result"
    }
   ],
   "source": [
    "np.repeat(a,2)"
   ]
  },
  {
   "cell_type": "code",
   "execution_count": 18,
   "id": "0e0f58a3-e786-4126-97e7-fbc2a5751302",
   "metadata": {},
   "outputs": [
    {
     "data": {
      "text/plain": [
       "array([[1, 2],\n",
       "       [3, 4]])"
      ]
     },
     "execution_count": 18,
     "metadata": {},
     "output_type": "execute_result"
    }
   ],
   "source": [
    "a"
   ]
  },
  {
   "cell_type": "code",
   "execution_count": 19,
   "id": "7b125071-73a4-4f30-bf48-6c267b400254",
   "metadata": {},
   "outputs": [
    {
     "data": {
      "text/plain": [
       "2"
      ]
     },
     "execution_count": 19,
     "metadata": {},
     "output_type": "execute_result"
    }
   ],
   "source": [
    "a.ndim"
   ]
  },
  {
   "cell_type": "code",
   "execution_count": 20,
   "id": "f6b305d2-6d50-4055-b340-6a174aae4ca6",
   "metadata": {},
   "outputs": [
    {
     "data": {
      "text/plain": [
       "(2, 2)"
      ]
     },
     "execution_count": 20,
     "metadata": {},
     "output_type": "execute_result"
    }
   ],
   "source": [
    "a.shape"
   ]
  },
  {
   "cell_type": "code",
   "execution_count": 24,
   "id": "528c9efb-d4ea-40a4-85e4-506c246ea002",
   "metadata": {},
   "outputs": [
    {
     "data": {
      "text/plain": [
       "array([[1, 1, 2, 2],\n",
       "       [3, 3, 4, 4]])"
      ]
     },
     "execution_count": 24,
     "metadata": {},
     "output_type": "execute_result"
    }
   ],
   "source": [
    "np.repeat(a,2,axis=1)"
   ]
  },
  {
   "cell_type": "code",
   "execution_count": 25,
   "id": "249e2f42-86a6-48a5-ac4e-14bfb8d726af",
   "metadata": {},
   "outputs": [
    {
     "data": {
      "text/plain": [
       "array([[1, 2],\n",
       "       [1, 2],\n",
       "       [3, 4],\n",
       "       [3, 4]])"
      ]
     },
     "execution_count": 25,
     "metadata": {},
     "output_type": "execute_result"
    }
   ],
   "source": [
    "np.repeat(a,2,axis=0)"
   ]
  },
  {
   "cell_type": "code",
   "execution_count": 26,
   "id": "6e39a05e-b8a1-413d-8c34-8471868035d6",
   "metadata": {},
   "outputs": [
    {
     "data": {
      "text/plain": [
       "array([[1, 2],\n",
       "       [3, 4]])"
      ]
     },
     "execution_count": 26,
     "metadata": {},
     "output_type": "execute_result"
    }
   ],
   "source": [
    "np.repeat(a,1,axis=1)"
   ]
  },
  {
   "cell_type": "code",
   "execution_count": 31,
   "id": "9b99594d-cfed-4e4c-95c1-22095baebdce",
   "metadata": {},
   "outputs": [
    {
     "data": {
      "text/plain": [
       "array([[2],\n",
       "       [3],\n",
       "       [1]])"
      ]
     },
     "execution_count": 31,
     "metadata": {},
     "output_type": "execute_result"
    }
   ],
   "source": [
    "np.roll(data, 2)"
   ]
  },
  {
   "cell_type": "code",
   "execution_count": 32,
   "id": "2f6353f1-2e39-495f-a4e3-953e71f19fd6",
   "metadata": {},
   "outputs": [
    {
     "data": {
      "text/plain": [
       "array([[1, 0, 0, 0],\n",
       "       [0, 2, 0, 0],\n",
       "       [0, 0, 3, 0],\n",
       "       [0, 0, 0, 3]])"
      ]
     },
     "execution_count": 32,
     "metadata": {},
     "output_type": "execute_result"
    }
   ],
   "source": [
    "np.diag(np.array([1,2,3,3]))"
   ]
  },
  {
   "cell_type": "code",
   "execution_count": 33,
   "id": "edcd7e18-f26b-4c9a-98b2-a592382bf70b",
   "metadata": {},
   "outputs": [],
   "source": [
    "a=np.array([[[1,2],[3,4],[5,6]]])"
   ]
  },
  {
   "cell_type": "code",
   "execution_count": 34,
   "id": "3a724071-81c2-430b-a4c9-bab9bc09e1dc",
   "metadata": {},
   "outputs": [
    {
     "data": {
      "text/plain": [
       "array([[[1, 2],\n",
       "        [3, 4],\n",
       "        [5, 6]]])"
      ]
     },
     "execution_count": 34,
     "metadata": {},
     "output_type": "execute_result"
    }
   ],
   "source": [
    "a"
   ]
  },
  {
   "cell_type": "code",
   "execution_count": 35,
   "id": "25456c83-53e2-4903-b8a3-71343e5af113",
   "metadata": {},
   "outputs": [
    {
     "data": {
      "text/plain": [
       "array([[[1, 2],\n",
       "        [3, 4],\n",
       "        [5, 6]]])"
      ]
     },
     "execution_count": 35,
     "metadata": {},
     "output_type": "execute_result"
    }
   ],
   "source": [
    "np.roll(a,1,axis=0)"
   ]
  },
  {
   "cell_type": "code",
   "execution_count": 38,
   "id": "7b875689-4dc4-454f-b571-c565f24459a4",
   "metadata": {},
   "outputs": [
    {
     "data": {
      "text/plain": [
       "array([[[5, 6],\n",
       "        [1, 2],\n",
       "        [3, 4]]])"
      ]
     },
     "execution_count": 38,
     "metadata": {},
     "output_type": "execute_result"
    }
   ],
   "source": [
    "np.roll(a,1,axis=1)"
   ]
  },
  {
   "cell_type": "code",
   "execution_count": 39,
   "id": "8635a0e2-4067-455c-9810-a4ad4e9e43dc",
   "metadata": {},
   "outputs": [
    {
     "data": {
      "text/plain": [
       "array([[[3, 4],\n",
       "        [5, 6],\n",
       "        [1, 2]]])"
      ]
     },
     "execution_count": 39,
     "metadata": {},
     "output_type": "execute_result"
    }
   ],
   "source": [
    "np.roll(a,2,axis=1)"
   ]
  },
  {
   "cell_type": "code",
   "execution_count": 40,
   "id": "da4ddaa6-bb82-4bca-a798-2f2bdb7cd953",
   "metadata": {},
   "outputs": [
    {
     "data": {
      "text/plain": [
       "array([[1, 0, 0, 0],\n",
       "       [0, 2, 0, 0],\n",
       "       [0, 0, 3, 0],\n",
       "       [0, 0, 0, 4]])"
      ]
     },
     "execution_count": 40,
     "metadata": {},
     "output_type": "execute_result"
    }
   ],
   "source": [
    "np.diag(np.array([1,2,3,4]))"
   ]
  },
  {
   "cell_type": "code",
   "execution_count": 41,
   "id": "5b0c2065-321c-4909-b4a5-bc38031d49a4",
   "metadata": {},
   "outputs": [],
   "source": [
    "# binary operation on array "
   ]
  },
  {
   "cell_type": "code",
   "execution_count": 42,
   "id": "8f541d96-a6b9-40f2-87ec-71c6cc7a1437",
   "metadata": {},
   "outputs": [],
   "source": [
    "arr1=np.random.randint(1,10,(3,4))\n",
    "arr2=np.random.randint(1,10,(3,4))"
   ]
  },
  {
   "cell_type": "code",
   "execution_count": 43,
   "id": "69d685ae-2e5c-4edc-947f-3a427f43bcde",
   "metadata": {},
   "outputs": [
    {
     "data": {
      "text/plain": [
       "array([[8, 8, 5, 5],\n",
       "       [8, 3, 1, 3],\n",
       "       [4, 7, 5, 4]])"
      ]
     },
     "execution_count": 43,
     "metadata": {},
     "output_type": "execute_result"
    }
   ],
   "source": [
    "arr1"
   ]
  },
  {
   "cell_type": "code",
   "execution_count": 44,
   "id": "50b304e1-8943-4428-97cd-ef2bc3c539ca",
   "metadata": {},
   "outputs": [
    {
     "data": {
      "text/plain": [
       "array([[5, 8, 6, 4],\n",
       "       [3, 6, 2, 2],\n",
       "       [6, 7, 8, 2]])"
      ]
     },
     "execution_count": 44,
     "metadata": {},
     "output_type": "execute_result"
    }
   ],
   "source": [
    "arr2"
   ]
  },
  {
   "cell_type": "code",
   "execution_count": 45,
   "id": "f8ef7d76-c460-4343-803a-51b51c4240b7",
   "metadata": {},
   "outputs": [
    {
     "data": {
      "text/plain": [
       "array([[13, 16, 11,  9],\n",
       "       [11,  9,  3,  5],\n",
       "       [10, 14, 13,  6]])"
      ]
     },
     "execution_count": 45,
     "metadata": {},
     "output_type": "execute_result"
    }
   ],
   "source": [
    "arr1+arr2"
   ]
  },
  {
   "cell_type": "code",
   "execution_count": 46,
   "id": "84836c45-91e7-4be3-b8e9-6f621dfade3b",
   "metadata": {},
   "outputs": [
    {
     "data": {
      "text/plain": [
       "array([[40, 64, 30, 20],\n",
       "       [24, 18,  2,  6],\n",
       "       [24, 49, 40,  8]])"
      ]
     },
     "execution_count": 46,
     "metadata": {},
     "output_type": "execute_result"
    }
   ],
   "source": [
    "arr1 * arr2"
   ]
  },
  {
   "cell_type": "code",
   "execution_count": 47,
   "id": "e52145e0-4150-4d2b-a278-82975c1e69a5",
   "metadata": {},
   "outputs": [
    {
     "data": {
      "text/plain": [
       "array([[ 3,  0, -1,  1],\n",
       "       [ 5, -3, -1,  1],\n",
       "       [-2,  0, -3,  2]])"
      ]
     },
     "execution_count": 47,
     "metadata": {},
     "output_type": "execute_result"
    }
   ],
   "source": [
    "arr1 - arr2"
   ]
  },
  {
   "cell_type": "code",
   "execution_count": 48,
   "id": "0bf7be72-8f4d-4043-aa82-152f3bf0ad07",
   "metadata": {},
   "outputs": [
    {
     "data": {
      "text/plain": [
       "array([[   32768, 16777216,    15625,      625],\n",
       "       [     512,      729,        1,        9],\n",
       "       [    4096,   823543,   390625,       16]])"
      ]
     },
     "execution_count": 48,
     "metadata": {},
     "output_type": "execute_result"
    }
   ],
   "source": [
    "arr1 ** arr2"
   ]
  },
  {
   "cell_type": "code",
   "execution_count": 49,
   "id": "a6163b87-11f8-4749-8aac-d3b5efd73b19",
   "metadata": {},
   "outputs": [
    {
     "data": {
      "text/plain": [
       "array([[ True, False, False,  True],\n",
       "       [ True, False, False,  True],\n",
       "       [False, False, False,  True]])"
      ]
     },
     "execution_count": 49,
     "metadata": {},
     "output_type": "execute_result"
    }
   ],
   "source": [
    "arr1 >arr2"
   ]
  },
  {
   "cell_type": "code",
   "execution_count": 50,
   "id": "1deaf0e3-71e8-44e0-8efd-b76637f32453",
   "metadata": {},
   "outputs": [
    {
     "data": {
      "text/plain": [
       "array([[1.6       , 1.        , 0.83333333, 1.25      ],\n",
       "       [2.66666667, 0.5       , 0.5       , 1.5       ],\n",
       "       [0.66666667, 1.        , 0.625     , 2.        ]])"
      ]
     },
     "execution_count": 50,
     "metadata": {},
     "output_type": "execute_result"
    }
   ],
   "source": [
    "arr1 /arr2"
   ]
  },
  {
   "cell_type": "code",
   "execution_count": 51,
   "id": "81d564b5-1988-4c8d-bea9-3c0430b8871b",
   "metadata": {},
   "outputs": [
    {
     "data": {
      "text/plain": [
       "array([[-9, -9, -6, -6],\n",
       "       [-9, -4, -2, -4],\n",
       "       [-5, -8, -6, -5]])"
      ]
     },
     "execution_count": 51,
     "metadata": {},
     "output_type": "execute_result"
    }
   ],
   "source": [
    "~arr1"
   ]
  },
  {
   "cell_type": "code",
   "execution_count": 52,
   "id": "d69971c1-0a0a-43a8-bd0a-246a6138a64a",
   "metadata": {},
   "outputs": [
    {
     "data": {
      "text/plain": [
       "array([[-6, -9, -7, -5],\n",
       "       [-4, -7, -3, -3],\n",
       "       [-7, -8, -9, -3]])"
      ]
     },
     "execution_count": 52,
     "metadata": {},
     "output_type": "execute_result"
    }
   ],
   "source": [
    "~arr2"
   ]
  },
  {
   "cell_type": "code",
   "execution_count": 53,
   "id": "d6d82341-f3f1-4903-bda1-e3cbab1a0956",
   "metadata": {},
   "outputs": [
    {
     "data": {
      "text/plain": [
       "array([[8, 8, 5, 5],\n",
       "       [8, 3, 1, 3],\n",
       "       [4, 7, 5, 4]])"
      ]
     },
     "execution_count": 53,
     "metadata": {},
     "output_type": "execute_result"
    }
   ],
   "source": [
    "arr1"
   ]
  },
  {
   "cell_type": "code",
   "execution_count": 54,
   "id": "e799a831-6933-4e5e-b6c9-624bb2bab5fc",
   "metadata": {},
   "outputs": [
    {
     "data": {
      "text/plain": [
       "array([[5, 8, 6, 4],\n",
       "       [3, 6, 2, 2],\n",
       "       [6, 7, 8, 2]])"
      ]
     },
     "execution_count": 54,
     "metadata": {},
     "output_type": "execute_result"
    }
   ],
   "source": [
    "arr2"
   ]
  },
  {
   "cell_type": "code",
   "execution_count": 57,
   "id": "f867f2fb-d332-46ab-b745-04fad7aba5e3",
   "metadata": {},
   "outputs": [],
   "source": [
    "# numpy string function"
   ]
  },
  {
   "cell_type": "code",
   "execution_count": 58,
   "id": "40d06fd6-f127-4df4-8e99-b89785e868aa",
   "metadata": {},
   "outputs": [],
   "source": [
    "arr=np.array([\"pw\",\"skills\"])"
   ]
  },
  {
   "cell_type": "code",
   "execution_count": 59,
   "id": "0f783d3d-3e30-4fe0-8e99-ae5cd5752879",
   "metadata": {},
   "outputs": [
    {
     "data": {
      "text/plain": [
       "array(['pw', 'skills'], dtype='<U6')"
      ]
     },
     "execution_count": 59,
     "metadata": {},
     "output_type": "execute_result"
    }
   ],
   "source": [
    "arr"
   ]
  },
  {
   "cell_type": "code",
   "execution_count": 60,
   "id": "690d0ede-a3e3-49c5-a2be-81ef3fe17fba",
   "metadata": {},
   "outputs": [
    {
     "data": {
      "text/plain": [
       "array(['PW', 'SKILLS'], dtype='<U6')"
      ]
     },
     "execution_count": 60,
     "metadata": {},
     "output_type": "execute_result"
    }
   ],
   "source": [
    "np.char.upper(arr)"
   ]
  },
  {
   "cell_type": "code",
   "execution_count": 61,
   "id": "0a116ddb-a943-4d39-a396-f17e3adde913",
   "metadata": {},
   "outputs": [
    {
     "data": {
      "text/plain": [
       "array(['pw', 'skills'], dtype='<U6')"
      ]
     },
     "execution_count": 61,
     "metadata": {},
     "output_type": "execute_result"
    }
   ],
   "source": [
    "np.char.lower(arr)"
   ]
  },
  {
   "cell_type": "code",
   "execution_count": 62,
   "id": "fa8b53de-b5fb-4cf1-ae7e-d159a9aa711f",
   "metadata": {},
   "outputs": [
    {
     "data": {
      "text/plain": [
       "array(['Pw', 'Skills'], dtype='<U6')"
      ]
     },
     "execution_count": 62,
     "metadata": {},
     "output_type": "execute_result"
    }
   ],
   "source": [
    "np.char.capitalize(arr)"
   ]
  },
  {
   "cell_type": "code",
   "execution_count": 63,
   "id": "45d81b99-40d0-4ef0-9de3-dbc68042aca1",
   "metadata": {},
   "outputs": [
    {
     "data": {
      "text/plain": [
       "array(['Pw', 'Skills'], dtype='<U6')"
      ]
     },
     "execution_count": 63,
     "metadata": {},
     "output_type": "execute_result"
    }
   ],
   "source": [
    "np.char.title(arr)"
   ]
  },
  {
   "cell_type": "code",
   "execution_count": 64,
   "id": "3e451571-3cf3-41cd-b75a-3528945381c4",
   "metadata": {},
   "outputs": [
    {
     "data": {
      "text/plain": [
       "array([[8, 8, 5, 5],\n",
       "       [8, 3, 1, 3],\n",
       "       [4, 7, 5, 4]])"
      ]
     },
     "execution_count": 64,
     "metadata": {},
     "output_type": "execute_result"
    }
   ],
   "source": [
    "## mathematical function \n",
    "\n",
    "arr1"
   ]
  },
  {
   "cell_type": "code",
   "execution_count": 65,
   "id": "2ccbde0d-72ea-4615-bddd-cf33b77f7466",
   "metadata": {},
   "outputs": [
    {
     "data": {
      "text/plain": [
       "array([[ 0.98935825,  0.98935825, -0.95892427, -0.95892427],\n",
       "       [ 0.98935825,  0.14112001,  0.84147098,  0.14112001],\n",
       "       [-0.7568025 ,  0.6569866 , -0.95892427, -0.7568025 ]])"
      ]
     },
     "execution_count": 65,
     "metadata": {},
     "output_type": "execute_result"
    }
   ],
   "source": [
    "np.sin(arr1)"
   ]
  },
  {
   "cell_type": "code",
   "execution_count": 66,
   "id": "440f3035-78ba-407a-8b18-b046b5a05e64",
   "metadata": {},
   "outputs": [
    {
     "data": {
      "text/plain": [
       "array([[-6.79971146, -6.79971146, -3.38051501, -3.38051501],\n",
       "       [-6.79971146, -0.14254654,  1.55740772, -0.14254654],\n",
       "       [ 1.15782128,  0.87144798, -3.38051501,  1.15782128]])"
      ]
     },
     "execution_count": 66,
     "metadata": {},
     "output_type": "execute_result"
    }
   ],
   "source": [
    "np.tan(arr1)"
   ]
  },
  {
   "cell_type": "code",
   "execution_count": 67,
   "id": "ab03437d-0c9d-4b4f-b543-3635b83b8674",
   "metadata": {},
   "outputs": [
    {
     "data": {
      "text/plain": [
       "array([[0.90308999, 0.90308999, 0.69897   , 0.69897   ],\n",
       "       [0.90308999, 0.47712125, 0.        , 0.47712125],\n",
       "       [0.60205999, 0.84509804, 0.69897   , 0.60205999]])"
      ]
     },
     "execution_count": 67,
     "metadata": {},
     "output_type": "execute_result"
    }
   ],
   "source": [
    "np.log10(arr1)"
   ]
  },
  {
   "cell_type": "code",
   "execution_count": 68,
   "id": "54bc5464-06f2-4c5e-9d86-edcfd1132ee0",
   "metadata": {},
   "outputs": [
    {
     "data": {
      "text/plain": [
       "array([[2.98095799e+03, 2.98095799e+03, 1.48413159e+02, 1.48413159e+02],\n",
       "       [2.98095799e+03, 2.00855369e+01, 2.71828183e+00, 2.00855369e+01],\n",
       "       [5.45981500e+01, 1.09663316e+03, 1.48413159e+02, 5.45981500e+01]])"
      ]
     },
     "execution_count": 68,
     "metadata": {},
     "output_type": "execute_result"
    }
   ],
   "source": [
    "np.exp(arr1)"
   ]
  },
  {
   "cell_type": "code",
   "execution_count": 69,
   "id": "f241459c-c26b-4424-b204-f7e16f06278c",
   "metadata": {},
   "outputs": [
    {
     "data": {
      "text/plain": [
       "2.177855724228663"
      ]
     },
     "execution_count": 69,
     "metadata": {},
     "output_type": "execute_result"
    }
   ],
   "source": [
    "np.std(arr1)"
   ]
  },
  {
   "cell_type": "code",
   "execution_count": 70,
   "id": "daff0deb-35c4-4783-b676-175d2df2b2b2",
   "metadata": {},
   "outputs": [
    {
     "data": {
      "text/plain": [
       "array([[-0.14550003, -0.14550003,  0.28366219,  0.28366219],\n",
       "       [-0.14550003, -0.9899925 ,  0.54030231, -0.9899925 ],\n",
       "       [-0.65364362,  0.75390225,  0.28366219, -0.65364362]])"
      ]
     },
     "execution_count": 70,
     "metadata": {},
     "output_type": "execute_result"
    }
   ],
   "source": [
    "np.cos(arr1)"
   ]
  },
  {
   "cell_type": "code",
   "execution_count": 73,
   "id": "2e95b0ac-6bb2-4e93-9d86-73c8867ce8fa",
   "metadata": {},
   "outputs": [
    {
     "data": {
      "text/plain": [
       "array([[64, 64, 25, 25],\n",
       "       [64,  9,  1,  9],\n",
       "       [16, 49, 25, 16]])"
      ]
     },
     "execution_count": 73,
     "metadata": {},
     "output_type": "execute_result"
    }
   ],
   "source": [
    "np.power(arr1 ,2)"
   ]
  },
  {
   "cell_type": "code",
   "execution_count": 74,
   "id": "aadd8bbd-84d5-4cef-ab0d-9e3117b05872",
   "metadata": {},
   "outputs": [
    {
     "data": {
      "text/plain": [
       "8"
      ]
     },
     "execution_count": 74,
     "metadata": {},
     "output_type": "execute_result"
    }
   ],
   "source": [
    "np.max(arr1)"
   ]
  },
  {
   "cell_type": "code",
   "execution_count": 75,
   "id": "ca4b26c1-c4fb-4fe5-9187-68d2e7274419",
   "metadata": {},
   "outputs": [
    {
     "data": {
      "text/plain": [
       "1"
      ]
     },
     "execution_count": 75,
     "metadata": {},
     "output_type": "execute_result"
    }
   ],
   "source": [
    "np.min(arr1)"
   ]
  },
  {
   "cell_type": "code",
   "execution_count": 76,
   "id": "0e627380-1fa9-44b3-983b-ecd32d4a1ca3",
   "metadata": {},
   "outputs": [
    {
     "data": {
      "text/plain": [
       "array([[ 3,  0, -1,  1],\n",
       "       [ 5, -3, -1,  1],\n",
       "       [-2,  0, -3,  2]])"
      ]
     },
     "execution_count": 76,
     "metadata": {},
     "output_type": "execute_result"
    }
   ],
   "source": [
    "arr1 - arr2"
   ]
  },
  {
   "cell_type": "code",
   "execution_count": 78,
   "id": "e8de034f-bfdb-4e21-a425-faa5f28f695e",
   "metadata": {},
   "outputs": [
    {
     "data": {
      "text/plain": [
       "array([[13, 16, 11,  9],\n",
       "       [11,  9,  3,  5],\n",
       "       [10, 14, 13,  6]])"
      ]
     },
     "execution_count": 78,
     "metadata": {},
     "output_type": "execute_result"
    }
   ],
   "source": [
    "arr1 +arr2"
   ]
  },
  {
   "cell_type": "code",
   "execution_count": 79,
   "id": "6c23603f-c3f6-4244-ba47-4ab665f164c5",
   "metadata": {},
   "outputs": [
    {
     "data": {
      "text/plain": [
       "array([[40, 64, 30, 20],\n",
       "       [24, 18,  2,  6],\n",
       "       [24, 49, 40,  8]])"
      ]
     },
     "execution_count": 79,
     "metadata": {},
     "output_type": "execute_result"
    }
   ],
   "source": [
    "np.multiply(arr1 ,arr2)"
   ]
  },
  {
   "cell_type": "code",
   "execution_count": 80,
   "id": "33d0fca9-a409-451d-926a-3798249bc908",
   "metadata": {},
   "outputs": [
    {
     "data": {
      "text/plain": [
       "array([[3, 0, 5, 1],\n",
       "       [2, 3, 1, 1],\n",
       "       [4, 0, 5, 0]])"
      ]
     },
     "execution_count": 80,
     "metadata": {},
     "output_type": "execute_result"
    }
   ],
   "source": [
    "np.mod(arr1,arr2)"
   ]
  },
  {
   "cell_type": "code",
   "execution_count": 81,
   "id": "cf714b9a-dbc5-4d1e-b9a7-14b412f551c6",
   "metadata": {},
   "outputs": [
    {
     "data": {
      "text/plain": [
       "array([[40, 64, 30, 20],\n",
       "       [24, 18,  2,  6],\n",
       "       [24, 49, 40,  8]])"
      ]
     },
     "execution_count": 81,
     "metadata": {},
     "output_type": "execute_result"
    }
   ],
   "source": [
    "arr1 * arr2"
   ]
  },
  {
   "cell_type": "code",
   "execution_count": 82,
   "id": "ec5d4c1d-8b94-4c19-8f2c-42a4da671320",
   "metadata": {},
   "outputs": [
    {
     "data": {
      "text/plain": [
       "array([[   32768, 16777216,    15625,      625],\n",
       "       [     512,      729,        1,        9],\n",
       "       [    4096,   823543,   390625,       16]])"
      ]
     },
     "execution_count": 82,
     "metadata": {},
     "output_type": "execute_result"
    }
   ],
   "source": [
    "np.power(arr1 ,arr2)"
   ]
  },
  {
   "cell_type": "code",
   "execution_count": 83,
   "id": "67777e0a-e6a0-4e17-b1b6-5af5165f4e51",
   "metadata": {},
   "outputs": [
    {
     "data": {
      "text/plain": [
       "array([[8, 8, 5, 5],\n",
       "       [8, 3, 1, 3],\n",
       "       [4, 7, 5, 4]])"
      ]
     },
     "execution_count": 83,
     "metadata": {},
     "output_type": "execute_result"
    }
   ],
   "source": [
    "arr1"
   ]
  },
  {
   "cell_type": "code",
   "execution_count": 84,
   "id": "fd40440b-a491-4d87-be2a-679c832e0fa3",
   "metadata": {},
   "outputs": [
    {
     "data": {
      "text/plain": [
       "array([[5, 8, 6, 4],\n",
       "       [3, 6, 2, 2],\n",
       "       [6, 7, 8, 2]])"
      ]
     },
     "execution_count": 84,
     "metadata": {},
     "output_type": "execute_result"
    }
   ],
   "source": [
    "arr2"
   ]
  },
  {
   "cell_type": "code",
   "execution_count": 85,
   "id": "3c62d59b-2791-4958-a4e4-4a3d8690cdf7",
   "metadata": {},
   "outputs": [
    {
     "data": {
      "text/plain": [
       "array([[2.82842712, 2.82842712, 2.23606798, 2.23606798],\n",
       "       [2.82842712, 1.73205081, 1.        , 1.73205081],\n",
       "       [2.        , 2.64575131, 2.23606798, 2.        ]])"
      ]
     },
     "execution_count": 85,
     "metadata": {},
     "output_type": "execute_result"
    }
   ],
   "source": [
    "np.sqrt(arr1)"
   ]
  },
  {
   "cell_type": "code",
   "execution_count": 87,
   "id": "b81a85b9-6f99-4c8b-9fff-e41fd192e404",
   "metadata": {},
   "outputs": [
    {
     "data": {
      "text/plain": [
       "array([[125, 512, 216,  64],\n",
       "       [ 27, 216,   8,   8],\n",
       "       [216, 343, 512,   8]])"
      ]
     },
     "execution_count": 87,
     "metadata": {},
     "output_type": "execute_result"
    }
   ],
   "source": [
    "np.power(arr2 ,3)"
   ]
  },
  {
   "cell_type": "code",
   "execution_count": 88,
   "id": "8b925cf7-5f1d-467b-a8bc-cb7f65961ecc",
   "metadata": {},
   "outputs": [
    {
     "data": {
      "text/plain": [
       "2"
      ]
     },
     "execution_count": 88,
     "metadata": {},
     "output_type": "execute_result"
    }
   ],
   "source": [
    "np.min(arr2)"
   ]
  },
  {
   "cell_type": "code",
   "execution_count": 89,
   "id": "684c7f7d-e2aa-485c-900b-ad793c13ca10",
   "metadata": {},
   "outputs": [
    {
     "data": {
      "text/plain": [
       "1"
      ]
     },
     "execution_count": 89,
     "metadata": {},
     "output_type": "execute_result"
    }
   ],
   "source": [
    "np.min(arr1)"
   ]
  },
  {
   "cell_type": "code",
   "execution_count": 90,
   "id": "952ba1bb-34ed-44a5-830e-a23551bed767",
   "metadata": {},
   "outputs": [],
   "source": [
    "## sort and search"
   ]
  },
  {
   "cell_type": "code",
   "execution_count": 91,
   "id": "dedc0647-1234-4e4a-99fe-b6c87db4ebdb",
   "metadata": {},
   "outputs": [],
   "source": [
    "arr=np.array([53,63,33])"
   ]
  },
  {
   "cell_type": "code",
   "execution_count": 92,
   "id": "dc71efb0-f6ad-4f3f-9774-94bf939966b1",
   "metadata": {},
   "outputs": [
    {
     "data": {
      "text/plain": [
       "array([53, 63, 33])"
      ]
     },
     "execution_count": 92,
     "metadata": {},
     "output_type": "execute_result"
    }
   ],
   "source": [
    "arr"
   ]
  },
  {
   "cell_type": "code",
   "execution_count": 93,
   "id": "4208f2bf-922b-4538-9851-3e36f757da56",
   "metadata": {},
   "outputs": [
    {
     "data": {
      "text/plain": [
       "array([33, 53, 63])"
      ]
     },
     "execution_count": 93,
     "metadata": {},
     "output_type": "execute_result"
    }
   ],
   "source": [
    "np.sort(arr)"
   ]
  },
  {
   "cell_type": "code",
   "execution_count": 97,
   "id": "2bef66a7-7f27-431c-9aa0-7f7bdd287653",
   "metadata": {},
   "outputs": [
    {
     "data": {
      "text/plain": [
       "0"
      ]
     },
     "execution_count": 97,
     "metadata": {},
     "output_type": "execute_result"
    }
   ],
   "source": [
    "np.searchsorted(arr , 2)"
   ]
  },
  {
   "cell_type": "code",
   "execution_count": 98,
   "id": "815de56e-84e4-47fd-be07-aa57c7436e69",
   "metadata": {},
   "outputs": [],
   "source": [
    "arr=np.array([0,1,2,3,4,5,])"
   ]
  },
  {
   "cell_type": "code",
   "execution_count": 99,
   "id": "2debca99-747f-4149-ace3-29133e268f60",
   "metadata": {},
   "outputs": [
    {
     "data": {
      "text/plain": [
       "array([0, 1, 2, 3, 4, 5])"
      ]
     },
     "execution_count": 99,
     "metadata": {},
     "output_type": "execute_result"
    }
   ],
   "source": [
    "arr"
   ]
  },
  {
   "cell_type": "code",
   "execution_count": 100,
   "id": "d8cae813-630c-422f-bf7e-d5c5c314f492",
   "metadata": {},
   "outputs": [
    {
     "data": {
      "text/plain": [
       "12"
      ]
     },
     "execution_count": 100,
     "metadata": {},
     "output_type": "execute_result"
    }
   ],
   "source": [
    "np.count_nonzero(arr1)"
   ]
  },
  {
   "cell_type": "code",
   "execution_count": 101,
   "id": "e26ccbae-8a2d-4396-a42f-fd5fc67d8c4a",
   "metadata": {},
   "outputs": [
    {
     "data": {
      "text/plain": [
       "array([[ True,  True,  True,  True],\n",
       "       [ True,  True,  True,  True],\n",
       "       [ True,  True,  True,  True]])"
      ]
     },
     "execution_count": 101,
     "metadata": {},
     "output_type": "execute_result"
    }
   ],
   "source": [
    "arr1 > 0"
   ]
  },
  {
   "cell_type": "code",
   "execution_count": 102,
   "id": "540031ce-3d84-4908-a6b9-07981d3cd4be",
   "metadata": {},
   "outputs": [
    {
     "data": {
      "text/plain": [
       "array([False,  True,  True,  True,  True,  True])"
      ]
     },
     "execution_count": 102,
     "metadata": {},
     "output_type": "execute_result"
    }
   ],
   "source": [
    "arr > 0"
   ]
  },
  {
   "cell_type": "code",
   "execution_count": 104,
   "id": "33c72b53-e2b4-4c2c-9307-e8e911f40cd9",
   "metadata": {},
   "outputs": [
    {
     "data": {
      "text/plain": [
       "(array([1, 2, 3, 4, 5]),)"
      ]
     },
     "execution_count": 104,
     "metadata": {},
     "output_type": "execute_result"
    }
   ],
   "source": [
    "np.where(arr > 0)"
   ]
  },
  {
   "cell_type": "code",
   "execution_count": 112,
   "id": "3625e656-23df-4036-b0cb-558a41768875",
   "metadata": {},
   "outputs": [
    {
     "data": {
      "text/plain": [
       "array([1, 2, 3, 4, 5])"
      ]
     },
     "execution_count": 112,
     "metadata": {},
     "output_type": "execute_result"
    }
   ],
   "source": [
    "np.extract(arr > 0 ,arr) # 2d only "
   ]
  },
  {
   "cell_type": "code",
   "execution_count": 113,
   "id": "5c59dc33-c3b6-4ac2-a8f5-6d5141cc18b9",
   "metadata": {},
   "outputs": [
    {
     "data": {
      "text/plain": [
       "array([[8, 8, 5, 5],\n",
       "       [8, 3, 1, 3],\n",
       "       [4, 7, 5, 4]])"
      ]
     },
     "execution_count": 113,
     "metadata": {},
     "output_type": "execute_result"
    }
   ],
   "source": [
    "arr1"
   ]
  },
  {
   "cell_type": "code",
   "execution_count": 114,
   "id": "cf548da2-959f-4dbc-b719-8eb5734e5a44",
   "metadata": {},
   "outputs": [
    {
     "data": {
      "text/plain": [
       "array([0, 1, 2, 3, 4, 5])"
      ]
     },
     "execution_count": 114,
     "metadata": {},
     "output_type": "execute_result"
    }
   ],
   "source": [
    "arr"
   ]
  },
  {
   "cell_type": "code",
   "execution_count": 115,
   "id": "63ac3ba6-0482-475a-bb41-eb443ee5eeb6",
   "metadata": {},
   "outputs": [
    {
     "data": {
      "text/plain": [
       "array([                 0,  72057594037927936, 144115188075855872,\n",
       "       216172782113783808, 288230376151711744, 360287970189639680])"
      ]
     },
     "execution_count": 115,
     "metadata": {},
     "output_type": "execute_result"
    }
   ],
   "source": [
    "arr.byteswap()"
   ]
  },
  {
   "cell_type": "code",
   "execution_count": 116,
   "id": "ad9920ac-0554-4513-87c6-f8a18b534444",
   "metadata": {},
   "outputs": [
    {
     "data": {
      "text/plain": [
       "array([[576460752303423488, 576460752303423488, 360287970189639680,\n",
       "        360287970189639680],\n",
       "       [576460752303423488, 216172782113783808,  72057594037927936,\n",
       "        216172782113783808],\n",
       "       [288230376151711744, 504403158265495552, 360287970189639680,\n",
       "        288230376151711744]])"
      ]
     },
     "execution_count": 116,
     "metadata": {},
     "output_type": "execute_result"
    }
   ],
   "source": [
    "arr1.byteswap()"
   ]
  },
  {
   "cell_type": "code",
   "execution_count": 117,
   "id": "c8f31d57-0c0a-40da-b131-27887ffeb0b9",
   "metadata": {},
   "outputs": [],
   "source": [
    "# matrix >> 2d array\n"
   ]
  },
  {
   "cell_type": "code",
   "execution_count": 118,
   "id": "724a0173-b982-45f1-8559-abd20e22156e",
   "metadata": {},
   "outputs": [],
   "source": [
    "import numpy.matlib as nm"
   ]
  },
  {
   "cell_type": "code",
   "execution_count": 120,
   "id": "3961e60d-4964-4d3e-a122-3a26655812ba",
   "metadata": {},
   "outputs": [
    {
     "data": {
      "text/plain": [
       "matrix([[0., 0., 0., 0., 0.]])"
      ]
     },
     "execution_count": 120,
     "metadata": {},
     "output_type": "execute_result"
    }
   ],
   "source": [
    "nm.zeros(5)"
   ]
  },
  {
   "cell_type": "code",
   "execution_count": 121,
   "id": "7530020b-5a1f-447e-8c21-7e0c0acc51f0",
   "metadata": {},
   "outputs": [
    {
     "data": {
      "text/plain": [
       "matrix([[1., 1., 1., 1., 1.]])"
      ]
     },
     "execution_count": 121,
     "metadata": {},
     "output_type": "execute_result"
    }
   ],
   "source": [
    "nm.ones(5)"
   ]
  },
  {
   "cell_type": "code",
   "execution_count": 122,
   "id": "50575caa-7cd9-4e9a-90be-86473d858bc0",
   "metadata": {},
   "outputs": [
    {
     "data": {
      "text/plain": [
       "matrix([[1., 1., 1., 1.],\n",
       "        [1., 1., 1., 1.],\n",
       "        [1., 1., 1., 1.]])"
      ]
     },
     "execution_count": 122,
     "metadata": {},
     "output_type": "execute_result"
    }
   ],
   "source": [
    "nm.ones((3,4))"
   ]
  },
  {
   "cell_type": "code",
   "execution_count": 127,
   "id": "eea88386-aa1c-43b0-8c42-a2a92794d35a",
   "metadata": {},
   "outputs": [],
   "source": [
    "# numpy is linear algebra\n",
    "import numpy as np"
   ]
  },
  {
   "cell_type": "code",
   "execution_count": 129,
   "id": "36666c96-a4b1-4300-941d-4406ab0a951f",
   "metadata": {},
   "outputs": [],
   "source": [
    "# arr3=np.random.randint(1,10(3,4))\n",
    "# arr4=np.random.randint(1,10(3,4))"
   ]
  },
  {
   "cell_type": "code",
   "execution_count": 130,
   "id": "0efeb2e3-4d0f-43dc-a4f5-23ebb1c9103f",
   "metadata": {},
   "outputs": [],
   "source": [
    "arr1=np.array([[2,3],[3,4]])\n",
    "arr2=np.array([[2,3],[3,4]])"
   ]
  },
  {
   "cell_type": "code",
   "execution_count": 131,
   "id": "c326de89-9e3b-4417-89c4-6ba106a4d54a",
   "metadata": {},
   "outputs": [
    {
     "data": {
      "text/plain": [
       "array([[13, 18],\n",
       "       [18, 25]])"
      ]
     },
     "execution_count": 131,
     "metadata": {},
     "output_type": "execute_result"
    }
   ],
   "source": [
    "arr1 @ arr2"
   ]
  },
  {
   "cell_type": "code",
   "execution_count": 132,
   "id": "d95bdd99-d1c0-4eea-8ba6-94d730106855",
   "metadata": {},
   "outputs": [],
   "source": [
    "a=np.array([[-4,4,5],[8,-6,5],[3,6,-5]])"
   ]
  },
  {
   "cell_type": "code",
   "execution_count": 133,
   "id": "1607629d-ecd8-469f-bf9a-e6f08199a31a",
   "metadata": {},
   "outputs": [
    {
     "data": {
      "text/plain": [
       "array([[-4,  4,  5],\n",
       "       [ 8, -6,  5],\n",
       "       [ 3,  6, -5]])"
      ]
     },
     "execution_count": 133,
     "metadata": {},
     "output_type": "execute_result"
    }
   ],
   "source": [
    "a"
   ]
  },
  {
   "cell_type": "code",
   "execution_count": 134,
   "id": "96f5025c-7e2e-4af7-9fe8-771238013603",
   "metadata": {},
   "outputs": [],
   "source": [
    "b=np.array([15,3,-3])"
   ]
  },
  {
   "cell_type": "code",
   "execution_count": 135,
   "id": "ac8b685d-df67-4542-9ce5-24bcc716740f",
   "metadata": {},
   "outputs": [
    {
     "data": {
      "text/plain": [
       "array([15,  3, -3])"
      ]
     },
     "execution_count": 135,
     "metadata": {},
     "output_type": "execute_result"
    }
   ],
   "source": [
    "b"
   ]
  },
  {
   "cell_type": "code",
   "execution_count": 137,
   "id": "24eef535-43df-428c-b4ef-6becc21ebebe",
   "metadata": {},
   "outputs": [
    {
     "data": {
      "text/plain": [
       "array([0.  , 1.2 , 2.04])"
      ]
     },
     "execution_count": 137,
     "metadata": {},
     "output_type": "execute_result"
    }
   ],
   "source": [
    "np.linalg.solve(a,b)  # LINEAR ALGEBRA EQUACTION"
   ]
  },
  {
   "cell_type": "code",
   "execution_count": 142,
   "id": "dfe9ad00-4045-4180-9144-6a777c654fdd",
   "metadata": {},
   "outputs": [
    {
     "data": {
      "text/plain": [
       "array([[2, 3],\n",
       "       [3, 4]])"
      ]
     },
     "execution_count": 142,
     "metadata": {},
     "output_type": "execute_result"
    }
   ],
   "source": [
    "arr1 # determinant of matrix  AA-1 "
   ]
  },
  {
   "cell_type": "code",
   "execution_count": 143,
   "id": "ebe59b9c-40fc-408c-b5ea-7ef31cc5479b",
   "metadata": {},
   "outputs": [
    {
     "data": {
      "text/plain": [
       "array([[-4.,  3.],\n",
       "       [ 3., -2.]])"
      ]
     },
     "execution_count": 143,
     "metadata": {},
     "output_type": "execute_result"
    }
   ],
   "source": [
    "np.linalg.inv(arr1)"
   ]
  },
  {
   "cell_type": "code",
   "execution_count": null,
   "id": "ac6aefa1-1f42-409d-9831-48cc22b81094",
   "metadata": {},
   "outputs": [],
   "source": []
  },
  {
   "cell_type": "code",
   "execution_count": null,
   "id": "1cfef8c1-f342-46c8-9d07-bfde2066ab9d",
   "metadata": {},
   "outputs": [],
   "source": []
  },
  {
   "cell_type": "code",
   "execution_count": null,
   "id": "793a282e-b4b5-4bf9-8a53-2f81f157da95",
   "metadata": {},
   "outputs": [],
   "source": []
  },
  {
   "cell_type": "code",
   "execution_count": null,
   "id": "942cd4db-6303-4eb8-a7f7-80b1d18149db",
   "metadata": {},
   "outputs": [],
   "source": []
  },
  {
   "cell_type": "code",
   "execution_count": null,
   "id": "3b1f4e93-b13c-437e-b78a-31ae0902197f",
   "metadata": {},
   "outputs": [],
   "source": []
  },
  {
   "cell_type": "code",
   "execution_count": null,
   "id": "c0a7b2a0-a3d2-43de-989c-7965458cf8e3",
   "metadata": {},
   "outputs": [],
   "source": []
  },
  {
   "cell_type": "code",
   "execution_count": null,
   "id": "66ef48b1-ba6e-470f-acf1-74c0759a196f",
   "metadata": {},
   "outputs": [],
   "source": []
  },
  {
   "cell_type": "code",
   "execution_count": null,
   "id": "acb5d0f9-bb56-42a6-928f-9bdfb7859aa4",
   "metadata": {},
   "outputs": [],
   "source": []
  },
  {
   "cell_type": "code",
   "execution_count": null,
   "id": "8f45ef0c-2549-4a57-a9f0-d092a32da375",
   "metadata": {},
   "outputs": [],
   "source": []
  },
  {
   "cell_type": "code",
   "execution_count": null,
   "id": "7baa8f96-f45e-4ec7-96b4-589441e27300",
   "metadata": {},
   "outputs": [],
   "source": []
  },
  {
   "cell_type": "code",
   "execution_count": null,
   "id": "7d3a75f3-2632-4e4b-8823-e45f660d7d92",
   "metadata": {},
   "outputs": [],
   "source": []
  },
  {
   "cell_type": "code",
   "execution_count": null,
   "id": "4c3d465a-56d0-492c-aeb0-bc9095e27d52",
   "metadata": {},
   "outputs": [],
   "source": []
  },
  {
   "cell_type": "code",
   "execution_count": null,
   "id": "7b159923-1785-4991-b8fc-eec05de8588d",
   "metadata": {},
   "outputs": [],
   "source": []
  },
  {
   "cell_type": "code",
   "execution_count": null,
   "id": "1b0ad169-ce29-4e8e-aa3e-49fd867b7a05",
   "metadata": {},
   "outputs": [],
   "source": []
  },
  {
   "cell_type": "code",
   "execution_count": null,
   "id": "c42e57c1-7fb3-4333-92a5-6bb963e42672",
   "metadata": {},
   "outputs": [],
   "source": []
  },
  {
   "cell_type": "code",
   "execution_count": null,
   "id": "b676e82f-14d9-4def-8327-eb457528734a",
   "metadata": {},
   "outputs": [],
   "source": []
  },
  {
   "cell_type": "code",
   "execution_count": null,
   "id": "e8c93868-40df-45c8-9737-5741fe780226",
   "metadata": {},
   "outputs": [],
   "source": []
  },
  {
   "cell_type": "code",
   "execution_count": null,
   "id": "f680254f-6ef9-48a0-a418-41973e90a571",
   "metadata": {},
   "outputs": [],
   "source": []
  }
 ],
 "metadata": {
  "kernelspec": {
   "display_name": "Python 3 (ipykernel)",
   "language": "python",
   "name": "python3"
  },
  "language_info": {
   "codemirror_mode": {
    "name": "ipython",
    "version": 3
   },
   "file_extension": ".py",
   "mimetype": "text/x-python",
   "name": "python",
   "nbconvert_exporter": "python",
   "pygments_lexer": "ipython3",
   "version": "3.10.8"
  }
 },
 "nbformat": 4,
 "nbformat_minor": 5
}
