{
 "cells": [
  {
   "cell_type": "markdown",
   "id": "94fef78b-6ebc-4537-b55f-c9eccdb958be",
   "metadata": {},
   "source": [
    "## 1. What is a Python library? Why  we do use Python libraries?\n",
    "\n",
    "A Python library is a collection of related modules. These libraries contain bundles of code that can be reused across different programs. Let me explain why we use Python libraries:\n",
    "\n",
    "Code Reusability: Libraries allow us to avoid writing the same code repeatedly for different programs. Instead, we can leverage pre-existing functionality from libraries, making our programming tasks simpler and more convenient.\n",
    "\n",
    "Specific Operations: Each library focuses on specific tasks or domains. For example:\n",
    "\n",
    "TensorFlow: Developed by Google, TensorFlow is an open-source library used for high-level computations, machine learning, and deep learning algorithms.\n",
    "\n",
    "Matplotlib: This library is essential for plotting numerical data, creating high-quality figures like pie charts, histograms, and scatterplots.\n",
    "\n",
    "Pandas: A crucial library for data scientists, Pandas provides flexible data structures and analysis tools.\n",
    "\n",
    "Python Standard Library: Python comes with a built-in standard library that contains more than 200 core modules. These modules provide access to basic system functionality, I/O operations, and other essential features. Without the standard library, Python programmers wouldn’t have access to these functionalities."
   ]
  },
  {
   "cell_type": "markdown",
   "id": "e76e644b-d4e4-4157-8f6b-8266a62017ee",
   "metadata": {},
   "source": [
    "## 2. What is the difference between Numpy array and List?\n",
    "\n",
    "Homogeneity:\n",
    "\n",
    "    NumPy Arrays: These store elements of the same data type in a homogeneous manner. This compact arrangement makes them memory-efficient.\n",
    "\n",
    "    Python Lists: Lists can hold different data types (heterogeneous). However, this flexibility can decrease memory efficiency and slow down numerical operations.\n",
    "\n",
    "Data Type:\n",
    "\n",
    "    NumPy Arrays: Have a fixed data type, which reduces memory overhead. No need to store type information for each element.\n",
    "    \n",
    "    Python Lists: Store additional information about each element, including its type and reference count. This overhead can be significant when dealing with a large number of elements.\n",
    "    \n",
    "Memory Layout:\n",
    "    \n",
    "    NumPy Arrays: Elements are stored contiguously in memory. For example, all rows of a 2D array must have the same number of columns.\n",
    "\n",
    "    Python Lists: Elements need not be contiguous in memory, potentially causing memory fragmentation.\n",
    "\n",
    "Performance:\n",
    "\n",
    "    NumPy Arrays: Optimized for numerical computations and perform faster vectorized operations.\n",
    "\n",
    "    Python Lists: Not optimized for numerical tasks due to Python’s interpretation overhead. They serve as general-purpose data structures."
   ]
  },
  {
   "cell_type": "code",
   "execution_count": 1,
   "id": "a8f31679-5a60-4ef9-9b10-3a3f68f500a0",
   "metadata": {},
   "outputs": [],
   "source": [
    "## 3. Fin^ the shape, size an^ ^imension of the following array?\n",
    "\"\"\"\n",
    "[[1, 2, 3, 4]\n",
    "[5, 6, 7, 8],\n",
    "[9, 10, 11, 12]] \"\"\"\n",
    "\n",
    "import numpy as np\n",
    "data=np.array([[1, 2, 3, 4],\n",
    "      [5, 6, 7, 8],\n",
    "     [9, 10, 11, 12]])"
   ]
  },
  {
   "cell_type": "code",
   "execution_count": 2,
   "id": "d171c5dd-cc2a-48a1-9a0b-6194baed114c",
   "metadata": {},
   "outputs": [
    {
     "data": {
      "text/plain": [
       "array([[ 1,  2,  3,  4],\n",
       "       [ 5,  6,  7,  8],\n",
       "       [ 9, 10, 11, 12]])"
      ]
     },
     "execution_count": 2,
     "metadata": {},
     "output_type": "execute_result"
    }
   ],
   "source": [
    "data"
   ]
  },
  {
   "cell_type": "code",
   "execution_count": 3,
   "id": "3be38145-83c4-45c2-b7d8-48cd2037ad07",
   "metadata": {},
   "outputs": [
    {
     "data": {
      "text/plain": [
       "(3, 4)"
      ]
     },
     "execution_count": 3,
     "metadata": {},
     "output_type": "execute_result"
    }
   ],
   "source": [
    "data.shape"
   ]
  },
  {
   "cell_type": "code",
   "execution_count": 4,
   "id": "6c8a88a0-24d8-4f3e-8fa2-1ee869fa41bb",
   "metadata": {},
   "outputs": [
    {
     "data": {
      "text/plain": [
       "2"
      ]
     },
     "execution_count": 4,
     "metadata": {},
     "output_type": "execute_result"
    }
   ],
   "source": [
    "data.ndim\n"
   ]
  },
  {
   "cell_type": "code",
   "execution_count": 5,
   "id": "1763bae1-42f3-41dd-9618-90639b4cd1dd",
   "metadata": {},
   "outputs": [],
   "source": [
    "## 4. Write python co^e to access the first row of the following array?\n",
    "'''\n",
    "[[1, 2, 3, 4]\n",
    "[5, 6, 7, 8],\n",
    "[9, 10, 11, 12]]'''\n",
    "\n",
    "data1=np.array([[1, 2, 3, 4],\n",
    "[5, 6, 7, 8],\n",
    "[9, 10, 11, 12]])"
   ]
  },
  {
   "cell_type": "code",
   "execution_count": 6,
   "id": "9198ef58-e738-4e38-9b70-256e9b436111",
   "metadata": {},
   "outputs": [
    {
     "data": {
      "text/plain": [
       "array([[1, 2, 3, 4]])"
      ]
     },
     "execution_count": 6,
     "metadata": {},
     "output_type": "execute_result"
    }
   ],
   "source": [
    "data1[0:1]"
   ]
  },
  {
   "cell_type": "code",
   "execution_count": 7,
   "id": "531bb5ca-9fa1-475a-a6d0-d17d39787ea1",
   "metadata": {},
   "outputs": [
    {
     "data": {
      "text/plain": [
       "array([[1, 2, 3, 4]])"
      ]
     },
     "execution_count": 7,
     "metadata": {},
     "output_type": "execute_result"
    }
   ],
   "source": [
    "data1[0::3]"
   ]
  },
  {
   "cell_type": "code",
   "execution_count": 8,
   "id": "fd2e7bd1-d81f-4189-8a50-a5b08dc92dcf",
   "metadata": {},
   "outputs": [],
   "source": [
    "## 5. How ^o you access the element at the thir^ row an^ fourth column from the given numpy array?\n",
    "'''\n",
    "[[1, 2, 3, 4]\n",
    "[5, 6, 7, 8],\n",
    "[9, 10, 11, 12]]'''\n",
    "\n",
    "data=np.array([[1, 2, 3, 4],\n",
    "[5, 6, 7, 8],\n",
    "[9, 10, 11, 12]])"
   ]
  },
  {
   "cell_type": "code",
   "execution_count": 9,
   "id": "f28e2d22-24bd-4b48-9cc2-b9dffca37851",
   "metadata": {},
   "outputs": [
    {
     "data": {
      "text/plain": [
       "array([ 4,  8, 12])"
      ]
     },
     "execution_count": 9,
     "metadata": {},
     "output_type": "execute_result"
    }
   ],
   "source": [
    "data[::, 3]"
   ]
  },
  {
   "cell_type": "code",
   "execution_count": 10,
   "id": "2745e6a0-2b40-44d2-a298-9a0fb19ad65d",
   "metadata": {},
   "outputs": [
    {
     "data": {
      "text/plain": [
       "12"
      ]
     },
     "execution_count": 10,
     "metadata": {},
     "output_type": "execute_result"
    }
   ],
   "source": [
    "data[2,3]"
   ]
  },
  {
   "cell_type": "code",
   "execution_count": 11,
   "id": "504b1a54-a952-494e-b5ea-b8c7891c8bd6",
   "metadata": {},
   "outputs": [],
   "source": [
    "## 6. Write co^e to extract all o^^-in^exe^ elements from the given numpy array?\n",
    "'''[[1, 2, 3, 4]\n",
    "[5, 6, 7, 8],\n",
    "[9, 10, 11, 12]]'''\n",
    "\n",
    "data_odd=np.array([[1, 2, 3, 4],\n",
    "[5, 6, 7, 8],\n",
    "[9, 10, 11, 12]])"
   ]
  },
  {
   "cell_type": "code",
   "execution_count": 12,
   "id": "6658f3b8-2359-4575-988f-3d7a2318728d",
   "metadata": {},
   "outputs": [
    {
     "data": {
      "text/plain": [
       "array([[ 1,  3],\n",
       "       [ 5,  7],\n",
       "       [ 9, 11]])"
      ]
     },
     "execution_count": 12,
     "metadata": {},
     "output_type": "execute_result"
    }
   ],
   "source": [
    "data_odd=data[:,0::2]\n",
    "data_odd"
   ]
  },
  {
   "cell_type": "code",
   "execution_count": 13,
   "id": "5de6a043-4d70-4852-96db-bd02bc0d7c66",
   "metadata": {},
   "outputs": [
    {
     "data": {
      "text/plain": [
       "array([[ 2,  4],\n",
       "       [ 6,  8],\n",
       "       [10, 12]])"
      ]
     },
     "execution_count": 13,
     "metadata": {},
     "output_type": "execute_result"
    }
   ],
   "source": [
    "even_number=data[:,1::2]\n",
    "even_number"
   ]
  },
  {
   "cell_type": "code",
   "execution_count": 14,
   "id": "1405606b-cc2e-4f78-906c-4796c537ea55",
   "metadata": {},
   "outputs": [
    {
     "data": {
      "text/plain": [
       "array([[0.16234786, 0.76784665, 0.21385525],\n",
       "       [0.98812917, 0.83616062, 0.88760455],\n",
       "       [0.06397979, 0.18543628, 0.35406452]])"
      ]
     },
     "execution_count": 14,
     "metadata": {},
     "output_type": "execute_result"
    }
   ],
   "source": [
    "## 7. How can you generate a ran^om 3x3 matrix with values between 0 an^ 1?\n",
    "\n",
    "data3=np.random.rand(3,3)\n",
    "data3 "
   ]
  },
  {
   "cell_type": "raw",
   "id": "42b403be-599e-460b-aadf-3f45172c1079",
   "metadata": {},
   "source": [
    "## 8. Describe the ^ifference between np.ran^om.ran^ an^ np.ran^om.ran^n?\n",
    "\n",
    "Certainly! Let's delve into the differences between `np.random.rand` and `np.random.randn` in Python:\n",
    "\n",
    "1. **`np.random.rand`**:\n",
    "    - Generates random numbers from a **uniform distribution** over the interval **[0, 1)**.\n",
    "    - Each number is drawn independently and uniformly from this range.\n",
    "    - The output array has the same **dimension** as specified by the arguments.\n",
    "    - Data type used is **float**.\n",
    "    - Example usage: `np.random.rand(3, 4)` generates a 3x4 array of random values between 0 and 1.\n",
    "\n",
    "2. **`np.random.randn`**:\n",
    "    - Generates random numbers from a **standard normal distribution** (also known as Gaussian distribution).\n",
    "    - The distribution has a **mean of 0** and a **variance of 1**.\n",
    "    - The numbers are sampled from this distribution.\n",
    "    - The output array has the same **dimension** as specified by the arguments.\n",
    "    - Data type used is **float**.\n",
    "    - Example usage: `np.random.randn(5)` generates an array of 5 random values following the standard normal distribution.\n",
    "\n",
    "**Why does this matter?**\n",
    "- When initializing neural network weights and biases, using `np.random.randn` is often preferred. Why?\n",
    "    - The sigmoid activation function (commonly used in neural networks) has a **gentle slope** away from 0.\n",
    "    - If weights are initialized too far from 0 (as with `np.random.rand`), gradients become tiny during backpropagation.\n",
    "    - Proper gradients are crucial for training deep networks effectively.\n",
    "    - Initializing around zero (with `np.random.randn`) helps prevent vanishing gradients.\n",
    "\n"
   ]
  },
  {
   "cell_type": "code",
   "execution_count": 15,
   "id": "16a37917-af38-49f4-9adb-31ce9b4d91c6",
   "metadata": {},
   "outputs": [
    {
     "data": {
      "text/plain": [
       "array([[ 1,  2,  3,  4,  5,  6],\n",
       "       [ 7,  8,  9, 10, 11, 12]])"
      ]
     },
     "execution_count": 15,
     "metadata": {},
     "output_type": "execute_result"
    }
   ],
   "source": [
    "## 9. Write co^e to increase the ^imension of the following array?\n",
    "'''\n",
    "[[1, 2, 3, 4]\n",
    "[5, 6, 7, 8],\n",
    "[9, 10, 11, 12]]'''\n",
    "\n",
    "data.reshape(2,6)"
   ]
  },
  {
   "cell_type": "code",
   "execution_count": 16,
   "id": "c5389fd6-036f-41b2-b882-c48488df4339",
   "metadata": {},
   "outputs": [
    {
     "data": {
      "text/plain": [
       "array([[ 1,  5,  9],\n",
       "       [ 2,  6, 10],\n",
       "       [ 3,  7, 11],\n",
       "       [ 4,  8, 12]])"
      ]
     },
     "execution_count": 16,
     "metadata": {},
     "output_type": "execute_result"
    }
   ],
   "source": [
    "## 10. How to transpose the following array in NumPy?\n",
    "'''\n",
    "[[1, 2, 3, 4]\n",
    "[5, 6, 7, 8],\n",
    "[9, 10, 11, 12]]'''\n",
    "\n",
    "data.transpose()"
   ]
  },
  {
   "cell_type": "code",
   "execution_count": 17,
   "id": "5099b7d5-9c2a-404f-9a95-0e19cd06ea17",
   "metadata": {},
   "outputs": [
    {
     "data": {
      "text/plain": [
       "array([[ 1,  5,  9],\n",
       "       [ 2,  6, 10],\n",
       "       [ 3,  7, 11],\n",
       "       [ 4,  8, 12]])"
      ]
     },
     "execution_count": 17,
     "metadata": {},
     "output_type": "execute_result"
    }
   ],
   "source": [
    "data.transpose((1,0))"
   ]
  },
  {
   "cell_type": "code",
   "execution_count": 18,
   "id": "20c5431d-824f-422e-b0a5-9d883e43c9c9",
   "metadata": {},
   "outputs": [],
   "source": [
    "## 11. Consi^er the following matrix:\n",
    "'''\n",
    "Matrix A2 [[1, 2, 3, 4] [5, 6, 7, 8],[9, 10, 11, 12]]\n",
    "Matrix B2 [[1, 2, 3, 4] [5, 6, 7, 8],[9, 10, 11, 12]]\n",
    "Perform the following operation using Python1\n",
    "1. Index wise multiplication\n",
    "2. Matrix multiplication\n",
    "3. Add both the matricK\n",
    "4. Subtract matrix B from A\n",
    "5. Divide Matrix B by A'''\n",
    "\n",
    "A2=np.array([[1, 2, 3, 4],[5, 6, 7, 8],[9, 10, 11, 12]])\n",
    "B2=np.array([[1, 2, 3, 4],[5, 6, 7, 8],[9, 10, 11, 12]])"
   ]
  },
  {
   "cell_type": "code",
   "execution_count": 19,
   "id": "143baa82-9ca4-44f1-9268-d53c2c517e52",
   "metadata": {},
   "outputs": [
    {
     "data": {
      "text/plain": [
       "array([[ 1,  2,  3,  4],\n",
       "       [ 5,  6,  7,  8],\n",
       "       [ 9, 10, 11, 12]])"
      ]
     },
     "execution_count": 19,
     "metadata": {},
     "output_type": "execute_result"
    }
   ],
   "source": [
    "A2"
   ]
  },
  {
   "cell_type": "code",
   "execution_count": 20,
   "id": "8fe2ee8b-b60c-49df-912d-da9f4c0b9714",
   "metadata": {},
   "outputs": [
    {
     "data": {
      "text/plain": [
       "array([[ 1,  2,  3,  4],\n",
       "       [ 5,  6,  7,  8],\n",
       "       [ 9, 10, 11, 12]])"
      ]
     },
     "execution_count": 20,
     "metadata": {},
     "output_type": "execute_result"
    }
   ],
   "source": [
    "B2"
   ]
  },
  {
   "cell_type": "code",
   "execution_count": 21,
   "id": "d2b0823e-72e4-4c65-a120-429eea814f23",
   "metadata": {},
   "outputs": [
    {
     "data": {
      "text/plain": [
       "array([[  1,   4,   9,  16],\n",
       "       [ 25,  36,  49,  64],\n",
       "       [ 81, 100, 121, 144]])"
      ]
     },
     "execution_count": 21,
     "metadata": {},
     "output_type": "execute_result"
    }
   ],
   "source": [
    "#1. Index wise multiplication\n",
    "A2*B2"
   ]
  },
  {
   "cell_type": "code",
   "execution_count": 22,
   "id": "7853d6f7-643f-4a0b-80f5-31ab917e038b",
   "metadata": {},
   "outputs": [
    {
     "data": {
      "text/plain": [
       "array([[ 1,  5,  9],\n",
       "       [ 2,  6, 10],\n",
       "       [ 3,  7, 11],\n",
       "       [ 4,  8, 12]])"
      ]
     },
     "execution_count": 22,
     "metadata": {},
     "output_type": "execute_result"
    }
   ],
   "source": [
    "#2. Matrix multiplication\n",
    "A2.transpose()\n",
    "# solve"
   ]
  },
  {
   "cell_type": "code",
   "execution_count": null,
   "id": "9651b595-6dd6-4ff3-833a-00efd2cddc82",
   "metadata": {},
   "outputs": [],
   "source": []
  },
  {
   "cell_type": "code",
   "execution_count": null,
   "id": "8fb6d79b-3045-4f68-bc60-f6b6ff8366d3",
   "metadata": {},
   "outputs": [],
   "source": []
  },
  {
   "cell_type": "code",
   "execution_count": 23,
   "id": "0f4cb1ed-f198-4d2c-9701-eab40431b9fd",
   "metadata": {},
   "outputs": [
    {
     "data": {
      "text/plain": [
       "array([[ 2,  4,  6,  8],\n",
       "       [10, 12, 14, 16],\n",
       "       [18, 20, 22, 24]])"
      ]
     },
     "execution_count": 23,
     "metadata": {},
     "output_type": "execute_result"
    }
   ],
   "source": [
    "# 3. Add both the matricK\n",
    "A2+B2"
   ]
  },
  {
   "cell_type": "code",
   "execution_count": 24,
   "id": "f18e1332-4534-484a-bedd-03c4c7e8df06",
   "metadata": {},
   "outputs": [
    {
     "data": {
      "text/plain": [
       "array([[0, 0, 0, 0],\n",
       "       [0, 0, 0, 0],\n",
       "       [0, 0, 0, 0]])"
      ]
     },
     "execution_count": 24,
     "metadata": {},
     "output_type": "execute_result"
    }
   ],
   "source": [
    "# 4. Subtract matrix B from A\n",
    "B2 - A2"
   ]
  },
  {
   "cell_type": "code",
   "execution_count": 25,
   "id": "30eb82c1-2c9b-4f30-bbfe-6bfa7f8b82d6",
   "metadata": {},
   "outputs": [
    {
     "data": {
      "text/plain": [
       "array([[1., 1., 1., 1.],\n",
       "       [1., 1., 1., 1.],\n",
       "       [1., 1., 1., 1.]])"
      ]
     },
     "execution_count": 25,
     "metadata": {},
     "output_type": "execute_result"
    }
   ],
   "source": [
    "# 5. Divide Matrix B by A\n",
    "A2 / B2"
   ]
  },
  {
   "cell_type": "markdown",
   "id": "7b631428-a6d3-4ac2-9df8-09bf24538bab",
   "metadata": {},
   "source": [
    "# 12.  Which function in Numpy can be use^ to swap the byte or^er of an array?\n",
    "\n",
    "Certainly! In NumPy, you can use the **`ndarray.byteswap()`** method to swap the byte order of an array. This function allows you to toggle between low-endian and big-endian data representation by returning a byteswapped array, optionally swapped in-place. Here's how it works:\n",
    "\n",
    "1. **`ndarray.byteswap(inplace=False)`**:\n",
    "    - Swaps the bytes of the array elements.\n",
    "    - If `inplace` is set to `True`, the operation modifies the original array in-place.\n",
    "    - If `inplace` is set to `False` (default), a new byteswapped array is returned.\n",
    "    - Note that arrays of byte-strings are not swapped, and the real and imaginary parts of a complex number are swapped individually.\n",
    "\n",
    "Example usage:\n",
    "\n",
    "```python\n",
    "import numpy as np\n",
    "\n",
    "# Create an example array (you can replace this with your own data)\n",
    "original_array = np.array([1, 2, 3, 4], dtype=np.int32)\n",
    "\n",
    "# Swap the byte order\n",
    "swapped_array = original_array.byteswap()\n",
    "\n",
    "print(\"Original array:\")\n",
    "print(original_array)\n",
    "print(\"Swapped array:\")\n",
    "print(swapped_array)\n",
    "```\n",
    "\n",
    "The `swapped_array` will have its byte order reversed compared to the `original_array`. You can use this function when dealing with data written in a machine with a different byte order than the one where it is being read¹²³.\n",
    "\n"
   ]
  },
  {
   "cell_type": "markdown",
   "id": "cef31865-bda8-4ae2-b74d-4321d151297b",
   "metadata": {},
   "source": [
    "## 13.  What is the significance of the np.linalg.inv function? in python\n",
    "\n",
    "The **`np.linalg.inv`** function in Python, provided by the **NumPy** library, serves a crucial purpose in linear algebra and numerical computations. Let's delve into its significance:\n",
    "\n",
    "1. **Matrix Inversion**:\n",
    "   - The primary role of `np.linalg.inv` is to compute the **multiplicative inverse** of a square matrix.\n",
    "   - Given a square matrix **`a`**, it returns the matrix **`ainv`** such that:\n",
    "     - **`dot(a, ainv) = dot(ainv, a) = eye(a.shape[0])`**\n",
    "     - Here, **`eye(a.shape[0])`** represents the identity matrix of the same size as matrix **`a`**.\n",
    "   - In simpler terms, if you multiply a matrix by its inverse, you get the identity matrix.\n",
    "   - This operation is essential for solving systems of linear equations, finding determinants, and other mathematical tasks.\n",
    "\n",
    "2. **Use Cases**:\n",
    "   - **Solving Linear Systems**:\n",
    "     - When solving systems of linear equations, you can express them in matrix form **`Ax = b`**.\n",
    "     - To find the solution vector **`x`**, you compute **`x = np.dot(np.linalg.inv(A), b)`**.\n",
    "   - **Eigenvalue Problems**:\n",
    "     - Eigenvalues and eigenvectors play a crucial role in various scientific and engineering applications.\n",
    "     - Matrix inversion is often involved in eigenvalue computations.\n",
    "   - **Least Squares Regression**:\n",
    "     - In regression analysis, matrix inversion helps find the coefficients that minimize the sum of squared residuals.\n",
    "   - **Numerical Stability**:\n",
    "     - Matrix inversion is numerically sensitive, especially for ill-conditioned matrices.\n",
    "     - The **pseudoinverse** (computed using **`np.linalg.pinv`**) is more robust in such cases.\n",
    "\n",
    "3. **Example**:\n",
    "   ```python\n",
    "   import numpy as np\n",
    "\n",
    "   # Create a sample matrix 'a'\n",
    "   a = np.array([[1., 2.], [3., 4.]])\n",
    "\n",
    "   # Compute the inverse\n",
    "   ainv = np.linalg.inv(a)\n",
    "\n",
    "   # Verify properties\n",
    "   assert np.allclose(np.dot(a, ainv), np.eye(2))\n",
    "   assert np.allclose(np.dot(ainv, a), np.eye(2))\n",
    "   ```\n",
    "\n",
    "4. **Notes**:\n",
    "   - Broadcasting rules apply when using `np.linalg.inv`.\n",
    "   - If **`a`** is a matrix object, the return value is also a matrix.\n",
    "   - Ensure that **`a`** is square; otherwise, a **`LinAlgError`** will be raised.\n",
    "\n",
    "In summary, `np.linalg.inv` empowers Python programmers with matrix inversion capabilities, making it a fundamental tool for scientific computing and data analysis¹²³⁴⁵.\n",
    "\n"
   ]
  },
  {
   "cell_type": "markdown",
   "id": "3551e4e4-93ba-46b2-bd55-1b130a8a2301",
   "metadata": {},
   "source": [
    "## 14. What ^oes the np.reshape function ^o, an^ how is it use^?\n",
    "\n",
    "The **`np.reshape`** function in Python, provided by the **NumPy** library, is a powerful tool for changing the shape of an array without altering its data. Let's explore its significance and usage:\n",
    "\n",
    "1. **Purpose of `np.reshape`**:\n",
    "   - The primary purpose of `np.reshape` is to **rearrange the dimensions** of an existing array.\n",
    "   - It allows you to create a new view of the data with a different shape, without copying the underlying elements.\n",
    "   - You can reshape arrays to match specific requirements for mathematical operations, visualization, or other tasks.\n",
    "\n",
    "2. **Syntax**:\n",
    "   - The syntax for `np.reshape` is as follows:\n",
    "     ```python\n",
    "     np.reshape(a, newshape, order='C')\n",
    "     ```\n",
    "     - `a`: The input array to be reshaped.\n",
    "     - `newshape`: An integer or a tuple of integers representing the desired new shape.\n",
    "     - `order`: Optional parameter specifying the index order for reading and placing elements (options: `'C'`, `'F'`, `'A'`).\n",
    "\n",
    "3. **Behavior and Examples**:\n",
    "   - Reshaping is like first **\"raveling\"** the array (using the given index order), and then inserting the elements from the raveled array into the new shape.\n",
    "   - Let's consider an example:\n",
    "     ```python\n",
    "    \n",
    "4. **Use Cases**:\n",
    "   - **Data Preparation**:\n",
    "     - When working with data for machine learning models, reshaping allows you to organize features or samples.\n",
    "   - **Image Processing**:\n",
    "     - Images are often represented as multi-dimensional arrays. Reshaping helps convert image data into suitable formats.\n",
    "   - **Matrix Operations**:\n",
    "     - Reshaping is crucial for matrix multiplication, transposition, and other linear algebra operations.\n",
    "\n",
    "5. **Notes**:\n",
    "   - The order keyword affects both fetching values from the original array and placing them into the reshaped array.\n",
    "   - Be aware that not all shapes are compatible without copying data.\n",
    "   - The returned array may be a new view or a copy, depending on memory layout.\n",
    "\n",
    "In summary, `np.reshape` is a versatile function that allows you to manipulate array shapes efficiently, making it essential for scientific computing and data analysis¹²³⁴⁵..\n"
   ]
  },
  {
   "cell_type": "code",
   "execution_count": 33,
   "id": "e8c150e3-dc26-4081-ab3c-a27454c076ea",
   "metadata": {},
   "outputs": [],
   "source": [
    "## Example\n",
    "\n",
    "import numpy as np\n",
    "\n",
    "\n",
    "a = np.arange(6).reshape((3, 2))\n",
    "    \n",
    "     # array([[0, 1],\n",
    "     #        [2, 3],\n",
    "     #        [4, 5]])\n",
    "\n",
    "     # Reshape 'a' to a 2x3 array (C-like index ordering)\n",
    "result_c_order = np.reshape(a, (2, 3))\n",
    "    \n",
    "     # array([[0, 1, 2],\n",
    "     #        [3, 4, 5]])\n",
    "\n",
    "     # Equivalent to raveling 'a' and then reshaping (C-like order)\n",
    "equivalent_result = np.reshape(np.ravel(a), (2, 3))\n",
    "\n",
    "     \n",
    "     # Reshape 'a' with Fortran-like index ordering\n",
    "result_f_order = np.reshape(a, (2, 3), order='F')\n",
    "   \n",
    "     # array([[0, 4, 3],\n",
    "     #        [2, 1, 5]])\n",
    "    \n"
   ]
  },
  {
   "cell_type": "markdown",
   "id": "9bf35897-bc3f-4261-a450-d3e00f446e31",
   "metadata": {},
   "source": [
    "## 15. What is broadcasting in Numpy?\n",
    "\n",
    "**Broadcasting** in **NumPy** is a powerful concept that allows arrays with different shapes to interact seamlessly during arithmetic operations. Let's explore this further:\n",
    "\n",
    "1. **What Is Broadcasting?**\n",
    "   - Broadcasting enables NumPy to handle arrays of varying shapes in a way that makes them compatible for element-wise operations.\n",
    "   - When two arrays are broadcast, the smaller one is virtually \"stretched\" or replicated to match the shape of the larger array.\n",
    "   - This process avoids unnecessary data copies and promotes efficient computation.\n",
    "\n",
    "2. **Basic Broadcasting Examples**:\n",
    "   - **Multiplying Arrays**:\n",
    "     - Consider two arrays:\n",
    "       ```python\n",
    "       a = np.array([1.0, 2.0, 3.0])\n",
    "       b = np.array([2.0, 2.0, 2.0])\n",
    "       ```\n",
    "     - Without broadcasting, both arrays must have the same shape for element-wise multiplication.\n",
    "     - However, broadcasting allows us to perform the operation:\n",
    "       ```python\n",
    "       result = a * b  # array([2., 4., 6.])\n",
    "     - Here, the scalar **`b`** is effectively stretched to match the shape of **`a`** during multiplication.\n",
    "\n",
    "3. **General Broadcasting Rules**:\n",
    "   - NumPy compares array shapes element-wise, starting from the trailing dimensions.\n",
    "   - Dimensions are compatible if they are equal or one of them is 1.\n",
    "   - If shapes are incompatible, a **`ValueError`** is raised.\n",
    "   - Input arrays can have different numbers of dimensions.\n",
    "   - The resulting array has the same number of dimensions as the input array with the greatest number of dimensions.\n",
    "   - Missing dimensions are assumed to have size one.\n",
    "\n",
    "4. **Example: RGB Image Scaling**:\n",
    "   - Suppose you have a 256x256x3 array representing RGB values in an image.\n",
    "   - To scale each color channel by different values, you can multiply the image by a one-dimensional array with 3 values.\n",
    "\n",
    "5. **Benefits of Broadcasting**:\n",
    "   - Efficient vectorization of operations.\n",
    "   - Avoids unnecessary memory overhead.\n",
    "   - Enables concise and readable code.\n",
    "\n",
    "Remember, broadcasting simplifies array operations, making NumPy a versatile tool for scientific computing and data analysis¹²³⁴.\n",
    "\n"
   ]
  },
  {
   "cell_type": "code",
   "execution_count": 37,
   "id": "923b623e-1574-4d62-9627-3e5a1d694efd",
   "metadata": {},
   "outputs": [],
   "source": [
    "## **Combining Array and Scalar**:\n",
    " #    - Broadcasting also works when combining an array with a scalar:\n",
    "import numpy as np      \n",
    "a = np.array([1.0, 2.0, 3.0])\n",
    "b = 2.0\n",
    "result = a * b  # array([2., 4., 6.])"
   ]
  },
  {
   "cell_type": "code",
   "execution_count": null,
   "id": "7cb35bbf-cd57-4cf4-a7d6-edc403323867",
   "metadata": {},
   "outputs": [],
   "source": []
  }
 ],
 "metadata": {
  "kernelspec": {
   "display_name": "Python 3 (ipykernel)",
   "language": "python",
   "name": "python3"
  },
  "language_info": {
   "codemirror_mode": {
    "name": "ipython",
    "version": 3
   },
   "file_extension": ".py",
   "mimetype": "text/x-python",
   "name": "python",
   "nbconvert_exporter": "python",
   "pygments_lexer": "ipython3",
   "version": "3.10.8"
  }
 },
 "nbformat": 4,
 "nbformat_minor": 5
}
